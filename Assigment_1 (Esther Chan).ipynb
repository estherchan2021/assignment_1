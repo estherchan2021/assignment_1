{
 "cells": [
  {
   "cell_type": "markdown",
   "id": "1188bc36",
   "metadata": {},
   "source": [
    "<h1>Assigment 1: Learning progress per week</h1>\n",
    "<p> Student name: Chan Sze Ching Esther<br>\n",
    "    Student no: 1155161782<br></p>\n",
    "    "
   ]
  },
  {
   "cell_type": "code",
   "execution_count": 29,
   "id": "2b990830",
   "metadata": {},
   "outputs": [
    {
     "name": "stdout",
     "output_type": "stream",
     "text": [
      "Please enter 3 tasks you had done every week - task 1: Doing assignment\n",
      "Please enter the total hours you spent on task 1 in week 1:2.5\n",
      "{'week': 'week 1', 'Doing assignment': 2.5}\n",
      "Please enter 3 tasks you had done every week - task 2: Quiz revision\n",
      "Please enter the total hours you spent on task 2 in week 1:2\n",
      "{'week': 'week 1', 'Doing assignment': 2.5, 'Quiz revision': 2.0}\n",
      "Please enter 3 tasks you had done every week - task 3: Practicing Python\n",
      "Please enter the total hours you spent on task 3 in week 1:2.5\n",
      "{'week': 'week 1', 'Doing assignment': 2.5, 'Quiz revision': 2.0, 'Practicing Python': 2.5}\n",
      "Please enter 3 tasks you had done every week - task 1: Doing assignment\n",
      "Please enter the total hours you spent on task 1 in week 2:5\n",
      "{'week': 'week 2', 'Doing assignment': 5.0}\n",
      "Please enter 3 tasks you had done every week - task 2: Quiz revision\n",
      "Please enter the total hours you spent on task 2 in week 2:3.5\n",
      "{'week': 'week 2', 'Doing assignment': 5.0, 'Quiz revision': 3.5}\n",
      "Please enter 3 tasks you had done every week - task 3: Practicing Python\n",
      "Please enter the total hours you spent on task 3 in week 2:4\n",
      "{'week': 'week 2', 'Doing assignment': 5.0, 'Quiz revision': 3.5, 'Practicing Python': 4.0}\n",
      "Please enter 3 tasks you had done every week - task 1: Doing assignment\n",
      "Please enter the total hours you spent on task 1 in week 3:7\n",
      "{'week': 'week 3', 'Doing assignment': 7.0}\n",
      "Please enter 3 tasks you had done every week - task 2: Quiz revision\n",
      "Please enter the total hours you spent on task 2 in week 3:3\n",
      "{'week': 'week 3', 'Doing assignment': 7.0, 'Quiz revision': 3.0}\n",
      "Please enter 3 tasks you had done every week - task 3: Practicing Python\n",
      "Please enter the total hours you spent on task 3 in week 3:4.5\n",
      "{'week': 'week 3', 'Doing assignment': 7.0, 'Quiz revision': 3.0, 'Practicing Python': 4.5}\n",
      "Please enter 3 tasks you had done every week - task 1: Doing assignment\n",
      "Please enter the total hours you spent on task 1 in week 4:8.5\n",
      "{'week': 'week 4', 'Doing assignment': 8.5}\n",
      "Please enter 3 tasks you had done every week - task 2: Quiz revision\n",
      "Please enter the total hours you spent on task 2 in week 4:4.5\n",
      "{'week': 'week 4', 'Doing assignment': 8.5, 'Quiz revision': 4.5}\n",
      "Please enter 3 tasks you had done every week - task 3: Practicing Python\n",
      "Please enter the total hours you spent on task 3 in week 4:5.5\n",
      "{'week': 'week 4', 'Doing assignment': 8.5, 'Quiz revision': 4.5, 'Practicing Python': 5.5}\n",
      "[{'week': 'week 1', 'Doing assignment': 2.5, 'Quiz revision': 2.0, 'Practicing Python': 2.5}, {'week': 'week 2', 'Doing assignment': 5.0, 'Quiz revision': 3.5, 'Practicing Python': 4.0}, {'week': 'week 3', 'Doing assignment': 7.0, 'Quiz revision': 3.0, 'Practicing Python': 4.5}, {'week': 'week 4', 'Doing assignment': 8.5, 'Quiz revision': 4.5, 'Practicing Python': 5.5}]\n"
     ]
    },
    {
     "data": {
      "text/html": [
       "<div>\n",
       "<style scoped>\n",
       "    .dataframe tbody tr th:only-of-type {\n",
       "        vertical-align: middle;\n",
       "    }\n",
       "\n",
       "    .dataframe tbody tr th {\n",
       "        vertical-align: top;\n",
       "    }\n",
       "\n",
       "    .dataframe thead th {\n",
       "        text-align: right;\n",
       "    }\n",
       "</style>\n",
       "<table border=\"1\" class=\"dataframe\">\n",
       "  <thead>\n",
       "    <tr style=\"text-align: right;\">\n",
       "      <th></th>\n",
       "      <th>week</th>\n",
       "      <th>Doing assignment</th>\n",
       "      <th>Quiz revision</th>\n",
       "      <th>Practicing Python</th>\n",
       "    </tr>\n",
       "  </thead>\n",
       "  <tbody>\n",
       "    <tr>\n",
       "      <th>0</th>\n",
       "      <td>week 1</td>\n",
       "      <td>2.5</td>\n",
       "      <td>2.0</td>\n",
       "      <td>2.5</td>\n",
       "    </tr>\n",
       "    <tr>\n",
       "      <th>1</th>\n",
       "      <td>week 2</td>\n",
       "      <td>5.0</td>\n",
       "      <td>3.5</td>\n",
       "      <td>4.0</td>\n",
       "    </tr>\n",
       "    <tr>\n",
       "      <th>2</th>\n",
       "      <td>week 3</td>\n",
       "      <td>7.0</td>\n",
       "      <td>3.0</td>\n",
       "      <td>4.5</td>\n",
       "    </tr>\n",
       "    <tr>\n",
       "      <th>3</th>\n",
       "      <td>week 4</td>\n",
       "      <td>8.5</td>\n",
       "      <td>4.5</td>\n",
       "      <td>5.5</td>\n",
       "    </tr>\n",
       "  </tbody>\n",
       "</table>\n",
       "</div>"
      ],
      "text/plain": [
       "     week  Doing assignment  Quiz revision  Practicing Python\n",
       "0  week 1               2.5            2.0                2.5\n",
       "1  week 2               5.0            3.5                4.0\n",
       "2  week 3               7.0            3.0                4.5\n",
       "3  week 4               8.5            4.5                5.5"
      ]
     },
     "execution_count": 29,
     "metadata": {},
     "output_type": "execute_result"
    }
   ],
   "source": [
    "import pandas as pd\n",
    "task_name = []\n",
    "all_tasks_hrs = []\n",
    "week = ['week 1','week 2','week 3','week 4']\n",
    "tasks = ['task 1','task 2','task 3']\n",
    "for i in week:\n",
    "    total_hrs_spent_per_week = {}\n",
    "    for ii in tasks:\n",
    "        task_name = input(\"Please enter 3 tasks you had done every week - \" + ii + \": \")\n",
    "        hours = float(input(\"Please enter the total hours you spent on \" + ii + \" in \" +  i + \":\"))\n",
    "        total_hrs_spent_per_week[\"week\"] = i\n",
    "        total_hrs_spent_per_week[task_name] = hours\n",
    "        print(total_hrs_spent_per_week)\n",
    "    all_tasks_hrs.append(total_hrs_spent_per_week)\n",
    "print(all_tasks_hrs)\n",
    "df = pd.DataFrame(all_tasks_hrs)\n",
    "df.to_csv('all_tasks_hrs.csv',mode='w',index=False)\n",
    "df"
   ]
  },
  {
   "cell_type": "code",
   "execution_count": 31,
   "id": "93e89059",
   "metadata": {},
   "outputs": [
    {
     "name": "stdout",
     "output_type": "stream",
     "text": [
      "Hours for all tasks: [['week 1', 2.5, 2.0, 2.5], ['week 2', 5.0, 3.5, 4.0], ['week 3', 7.0, 3.0, 4.5], ['week 4', 8.5, 4.5, 5.5]]\n",
      "['week 1', 'week 2', 'week 3', 'week 4']\n",
      "Hours of task 1: [2.5, 5.0, 7.0, 8.5]\n",
      "Hours of task 2: [2.0, 3.5, 3.0, 4.5]\n",
      "Hours of task 3: [2.5, 4.0, 4.5, 5.5]\n",
      "Weekly average hours: [2.3, 4.2, 4.8, 6.2]\n"
     ]
    },
    {
     "data": {
      "image/png": "[encoded data removed]",
      "text/plain": [
       "<Figure size 432x288 with 1 Axes>"
      ]
     },
     "metadata": {
      "needs_background": "light"
     },
     "output_type": "display_data"
    }
   ],
   "source": [
    "import pandas as pd \n",
    "from matplotlib import pyplot as plt\n",
    "df = pd.read_csv(\"all_tasks_hrs.csv\")\n",
    "df\n",
    "all_tasks_hrs_list = df.values.tolist()\n",
    "print(\"Hours for all tasks:\", all_tasks_hrs_list)\n",
    "week = []\n",
    "task1_hr = []\n",
    "task2_hr = []\n",
    "task3_hr = []\n",
    "avg_hr = []\n",
    "for i in all_tasks_hrs_list:\n",
    "    week.append(i[0])\n",
    "    task1_hr.append(i[1])\n",
    "    task2_hr.append(i[2])\n",
    "    task3_hr.append(i[3])\n",
    "avg_w1 = round(((task1_hr[0] + task2_hr[0] + task3_hr[0]) / 3),1)\n",
    "avg_w2 = round(((task1_hr[1] + task2_hr[1] + task3_hr[1]) / 3),1)\n",
    "avg_w3 = round(((task1_hr[2] + task2_hr[2] + task3_hr[2]) / 3),1)\n",
    "avg_w4 = round(((task1_hr[3] + task2_hr[3] + task3_hr[3]) / 3),1)\n",
    "avg_hr.append(avg_w1)\n",
    "avg_hr.append(avg_w2)\n",
    "avg_hr.append(avg_w3)\n",
    "avg_hr.append(avg_w4)    \n",
    "print(week)\n",
    "print(\"Hours of task 1:\", task1_hr)\n",
    "print(\"Hours of task 2:\", task2_hr)\n",
    "print(\"Hours of task 3:\", task3_hr)\n",
    "print(\"Weekly average hours:\", avg_hr)\n",
    "plt.plot(week, task1_hr, color='orange',marker='^', label = 'Doing assignment')\n",
    "plt.plot(week, task2_hr, color='green',marker='*', label = 'Quiz revision') \n",
    "plt.plot(week, task3_hr, color='purple',marker='h', label = 'Practicing Python')\n",
    "plt.plot(week, avg_hr, color='red', linestyle='--', label = 'Average')\n",
    "plt.legend(bbox_to_anchor=(1.05, 1.0), loc='upper left')\n",
    "plt.xlabel('Week')\n",
    "plt.ylabel('Hours')\n",
    "plt.title('Learning progress per week')\n",
    "plt.show()"
   ]
  },
  {
   "cell_type": "code",
   "execution_count": null,
   "id": "a5ae1eee",
   "metadata": {},
   "outputs": [],
   "source": []
  }
 ],
 "metadata": {
  "kernelspec": {
   "display_name": "Python 3",
   "language": "python",
   "name": "python3"
  },
  "language_info": {
   "codemirror_mode": {
    "name": "ipython",
    "version": 3
   },
   "file_extension": ".py",
   "mimetype": "text/x-python",
   "name": "python",
   "nbconvert_exporter": "python",
   "pygments_lexer": "ipython3",
   "version": "3.8.8"
  }
 },
 "nbformat": 4,
 "nbformat_minor": 5
}
